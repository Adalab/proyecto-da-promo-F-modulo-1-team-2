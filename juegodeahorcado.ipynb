{
 "cells": [
  {
   "cell_type": "code",
   "execution_count": 2,
   "metadata": {},
   "outputs": [
    {
     "name": "stdout",
     "output_type": "stream",
     "text": [
      "_ _ _ _\n",
      "La s está en la palabra\n",
      "_ _ s _\n",
      "Te equivocaste, la letra l no está en la palabra\n",
      "_ _ s _\n",
      "La c está en la palabra\n",
      "c _ s _\n",
      "La o está en la palabra\n",
      "c o s _\n",
      "La a está en la palabra\n",
      "c o s a\n"
     ]
    }
   ],
   "source": [
    "palabra = input(\"Introduce una palabra para que sea adivinada\").lower()\n",
    "#palabra = \"agua\"\n",
    "palabraadivinada = \"_\" * len(palabra)\n",
    "#print(palabraadivinada)\n",
    "listapalabraadivinada = list(palabraadivinada)\n",
    "listapalabra = list(palabra)\n",
    "#print(\"\".join(listapalabra))\n",
    "print(\" \".join(listapalabraadivinada))\n",
    "while listapalabra != listapalabraadivinada:\n",
    "    letra = input(\"Elige una letra\").lower()\n",
    "    if letra in listapalabra:\n",
    "        for i in range(len(listapalabra)):\n",
    "            if letra == listapalabra[i]:\n",
    "                listapalabraadivinada[i] = letra\n",
    "        print(f\"La {letra} está en la palabra\")\n",
    "    else:\n",
    "        print(f\"Te equivocaste, la letra {letra} no está en la palabra\")\n",
    "    print(\" \".join(listapalabraadivinada))\n",
    "    \n",
    "    #añadir print ahorcado tambien añadir cuando el jugador gana"
   ]
  },
  {
   "cell_type": "code",
   "execution_count": null,
   "metadata": {},
   "outputs": [],
   "source": []
  }
 ],
 "metadata": {
  "kernelspec": {
   "display_name": "base",
   "language": "python",
   "name": "python3"
  },
  "language_info": {
   "codemirror_mode": {
    "name": "ipython",
    "version": 3
   },
   "file_extension": ".py",
   "mimetype": "text/x-python",
   "name": "python",
   "nbconvert_exporter": "python",
   "pygments_lexer": "ipython3",
   "version": "3.9.7"
  }
 },
 "nbformat": 4,
 "nbformat_minor": 2
}
