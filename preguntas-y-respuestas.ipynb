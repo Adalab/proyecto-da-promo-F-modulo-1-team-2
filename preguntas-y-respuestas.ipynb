{
 "cells": [
  {
   "cell_type": "code",
   "execution_count": 17,
   "metadata": {},
   "outputs": [
    {
     "name": "stdout",
     "output_type": "stream",
     "text": [
      "¡Empezamos!\n",
      "dict_keys(['¿Cuál es la capital de Bélgica?', '¿Qué país de Europa limita con más países?', '¿En qué país están los Apeninos?'])\n"
     ]
    },
    {
     "ename": "TypeError",
     "evalue": "'dict_keys' object is not subscriptable",
     "output_type": "error",
     "traceback": [
      "\u001b[0;31m---------------------------------------------------------------------------\u001b[0m",
      "\u001b[0;31mTypeError\u001b[0m                                 Traceback (most recent call last)",
      "\u001b[1;32m/mnt/c/Users/salsi/OneDrive/Escritorio/adalab/Módulo 1/Proyecto/proyecto-da-promo-F-modulo-1-team-2/preguntas-y-respuestas.ipynb Cell 1\u001b[0m line \u001b[0;36m1\n\u001b[1;32m     <a href='vscode-notebook-cell://wsl%2Bubuntu-18.04/mnt/c/Users/salsi/OneDrive/Escritorio/adalab/M%C3%B3dulo%201/Proyecto/proyecto-da-promo-F-modulo-1-team-2/preguntas-y-respuestas.ipynb#W0sdnNjb2RlLXJlbW90ZQ%3D%3D?line=11'>12</a>\u001b[0m     preguntas_respuestas_key\u001b[39m=\u001b[39mpreguntas_respuestas\u001b[39m.\u001b[39mkeys()\n\u001b[1;32m     <a href='vscode-notebook-cell://wsl%2Bubuntu-18.04/mnt/c/Users/salsi/OneDrive/Escritorio/adalab/M%C3%B3dulo%201/Proyecto/proyecto-da-promo-F-modulo-1-team-2/preguntas-y-respuestas.ipynb#W0sdnNjb2RlLXJlbW90ZQ%3D%3D?line=12'>13</a>\u001b[0m     \u001b[39mprint\u001b[39m(preguntas_respuestas_key)\n\u001b[0;32m---> <a href='vscode-notebook-cell://wsl%2Bubuntu-18.04/mnt/c/Users/salsi/OneDrive/Escritorio/adalab/M%C3%B3dulo%201/Proyecto/proyecto-da-promo-F-modulo-1-team-2/preguntas-y-respuestas.ipynb#W0sdnNjb2RlLXJlbW90ZQ%3D%3D?line=13'>14</a>\u001b[0m     random\u001b[39m.\u001b[39;49mchoice(preguntas_respuestas_key)\n\u001b[1;32m     <a href='vscode-notebook-cell://wsl%2Bubuntu-18.04/mnt/c/Users/salsi/OneDrive/Escritorio/adalab/M%C3%B3dulo%201/Proyecto/proyecto-da-promo-F-modulo-1-team-2/preguntas-y-respuestas.ipynb#W0sdnNjb2RlLXJlbW90ZQ%3D%3D?line=14'>15</a>\u001b[0m \u001b[39melif\u001b[39;00m comienza_juego \u001b[39m==\u001b[39m \u001b[39m\"\u001b[39m\u001b[39mN\u001b[39m\u001b[39m\"\u001b[39m:\n\u001b[1;32m     <a href='vscode-notebook-cell://wsl%2Bubuntu-18.04/mnt/c/Users/salsi/OneDrive/Escritorio/adalab/M%C3%B3dulo%201/Proyecto/proyecto-da-promo-F-modulo-1-team-2/preguntas-y-respuestas.ipynb#W0sdnNjb2RlLXJlbW90ZQ%3D%3D?line=15'>16</a>\u001b[0m     \u001b[39mprint\u001b[39m(\u001b[39m\"\u001b[39m\u001b[39mTú te lo pierdes...\u001b[39m\u001b[39m\"\u001b[39m)\n",
      "File \u001b[0;32m~/anaconda3/lib/python3.10/random.py:378\u001b[0m, in \u001b[0;36mRandom.choice\u001b[0;34m(self, seq)\u001b[0m\n\u001b[1;32m    376\u001b[0m \u001b[39m\"\"\"Choose a random element from a non-empty sequence.\"\"\"\u001b[39;00m\n\u001b[1;32m    377\u001b[0m \u001b[39m# raises IndexError if seq is empty\u001b[39;00m\n\u001b[0;32m--> 378\u001b[0m \u001b[39mreturn\u001b[39;00m seq[\u001b[39mself\u001b[39;49m\u001b[39m.\u001b[39;49m_randbelow(\u001b[39mlen\u001b[39;49m(seq))]\n",
      "\u001b[0;31mTypeError\u001b[0m: 'dict_keys' object is not subscriptable"
     ]
    }
   ],
   "source": [
    "import random\n",
    "#Creamos el diccionario (FALTAN AÑADIR PREGUNTAS)\n",
    "preguntas_respuestas = {\"¿Cuál es la capital de Bélgica?\":\"BRUSELAS\",\"¿Qué país de Europa limita con más países?\":\"RUSIA\",\"¿En qué país están los Apeninos?\":\"ITALIA\"}\n",
    "comienza_juego = input(\"¿Quieres comenzar a jugar? S/N\").upper()\n",
    "\n",
    "if comienza_juego == \"S\":\n",
    "    print(\"¡Empezamos!\")\n",
    "    puntos_positivos=0\n",
    "    puntos_negativos=0\n",
    "    contador=0\n",
    "    #while puntos_positivos<5 or puntos_negativos>-3:\n",
    "    preguntas_respuestas_key=preguntas_respuestas.keys()\n",
    "    print(preguntas_respuestas_key)\n",
    "    random.choices(preguntas_respuestas_key)\n",
    "elif comienza_juego == \"N\":\n",
    "    print(\"Tú te lo pierdes...\")\n",
    "else:\n",
    "    print(\"Recuerda que sólo puedes elegir S para sí o N para no\")\n",
    "    print(\"Si quieres, prueba otra vez\")"
   ]
  }
 ],
 "metadata": {
  "kernelspec": {
   "display_name": "base",
   "language": "python",
   "name": "python3"
  },
  "language_info": {
   "codemirror_mode": {
    "name": "ipython",
    "version": 3
   },
   "file_extension": ".py",
   "mimetype": "text/x-python",
   "name": "python",
   "nbconvert_exporter": "python",
   "pygments_lexer": "ipython3",
   "version": "3.10.9"
  }
 },
 "nbformat": 4,
 "nbformat_minor": 2
}
